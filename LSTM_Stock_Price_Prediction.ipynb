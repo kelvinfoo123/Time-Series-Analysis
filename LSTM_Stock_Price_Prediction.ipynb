{
  "nbformat": 4,
  "nbformat_minor": 0,
  "metadata": {
    "colab": {
      "provenance": [],
      "authorship_tag": "ABX9TyNQ7ZG0hXmskb7jafY/8pRA",
      "include_colab_link": true
    },
    "kernelspec": {
      "name": "python3",
      "display_name": "Python 3"
    },
    "language_info": {
      "name": "python"
    }
  },
  "cells": [
    {
      "cell_type": "markdown",
      "metadata": {
        "id": "view-in-github",
        "colab_type": "text"
      },
      "source": [
        "<a href=\"https://colab.research.google.com/github/kelvinfoo123/Time-Series-Analysis/blob/main/LSTM_Stock_Price_Prediction.ipynb\" target=\"_parent\"><img src=\"https://colab.research.google.com/assets/colab-badge.svg\" alt=\"Open In Colab\"/></a>"
      ]
    },
    {
      "cell_type": "markdown",
      "source": [
        "## **Import and Prepare Data set**"
      ],
      "metadata": {
        "id": "NCBSiE96EzPD"
      }
    },
    {
      "cell_type": "code",
      "execution_count": 12,
      "metadata": {
        "colab": {
          "base_uri": "https://localhost:8080/",
          "height": 423
        },
        "id": "F4IP6dsJDs-b",
        "outputId": "e068e374-5743-497a-a671-09a1f3f81790"
      },
      "outputs": [
        {
          "output_type": "execute_result",
          "data": {
            "text/plain": [
              "            Date        Open        High         Low       Close   Adj Close  \\\n",
              "0     1986-03-13    0.088542    0.101563    0.088542    0.097222    0.060809   \n",
              "1     1986-03-14    0.097222    0.102431    0.097222    0.100694    0.062980   \n",
              "2     1986-03-17    0.100694    0.103299    0.100694    0.102431    0.064067   \n",
              "3     1986-03-18    0.102431    0.103299    0.098958    0.099826    0.062437   \n",
              "4     1986-03-19    0.099826    0.100694    0.097222    0.098090    0.061351   \n",
              "...          ...         ...         ...         ...         ...         ...   \n",
              "9258  2022-12-05  252.009995  253.820007  248.059998  250.199997  250.199997   \n",
              "9259  2022-12-06  250.820007  251.860001  243.779999  245.119995  245.119995   \n",
              "9260  2022-12-07  244.830002  246.160004  242.210007  244.369995  244.369995   \n",
              "9261  2022-12-08  244.839996  248.740005  243.059998  247.399994  247.399994   \n",
              "9262  2022-12-09  244.699997  248.309998  244.160004  245.419998  245.419998   \n",
              "\n",
              "          Volume  \n",
              "0     1031788800  \n",
              "1      308160000  \n",
              "2      133171200  \n",
              "3       67766400  \n",
              "4       47894400  \n",
              "...          ...  \n",
              "9258    23435300  \n",
              "9259    22463700  \n",
              "9260    20481500  \n",
              "9261    22611800  \n",
              "9262    20607100  \n",
              "\n",
              "[9263 rows x 7 columns]"
            ],
            "text/html": [
              "\n",
              "  <div id=\"df-7677d45c-7e07-4cf2-9ca5-75e91f628c80\">\n",
              "    <div class=\"colab-df-container\">\n",
              "      <div>\n",
              "<style scoped>\n",
              "    .dataframe tbody tr th:only-of-type {\n",
              "        vertical-align: middle;\n",
              "    }\n",
              "\n",
              "    .dataframe tbody tr th {\n",
              "        vertical-align: top;\n",
              "    }\n",
              "\n",
              "    .dataframe thead th {\n",
              "        text-align: right;\n",
              "    }\n",
              "</style>\n",
              "<table border=\"1\" class=\"dataframe\">\n",
              "  <thead>\n",
              "    <tr style=\"text-align: right;\">\n",
              "      <th></th>\n",
              "      <th>Date</th>\n",
              "      <th>Open</th>\n",
              "      <th>High</th>\n",
              "      <th>Low</th>\n",
              "      <th>Close</th>\n",
              "      <th>Adj Close</th>\n",
              "      <th>Volume</th>\n",
              "    </tr>\n",
              "  </thead>\n",
              "  <tbody>\n",
              "    <tr>\n",
              "      <th>0</th>\n",
              "      <td>1986-03-13</td>\n",
              "      <td>0.088542</td>\n",
              "      <td>0.101563</td>\n",
              "      <td>0.088542</td>\n",
              "      <td>0.097222</td>\n",
              "      <td>0.060809</td>\n",
              "      <td>1031788800</td>\n",
              "    </tr>\n",
              "    <tr>\n",
              "      <th>1</th>\n",
              "      <td>1986-03-14</td>\n",
              "      <td>0.097222</td>\n",
              "      <td>0.102431</td>\n",
              "      <td>0.097222</td>\n",
              "      <td>0.100694</td>\n",
              "      <td>0.062980</td>\n",
              "      <td>308160000</td>\n",
              "    </tr>\n",
              "    <tr>\n",
              "      <th>2</th>\n",
              "      <td>1986-03-17</td>\n",
              "      <td>0.100694</td>\n",
              "      <td>0.103299</td>\n",
              "      <td>0.100694</td>\n",
              "      <td>0.102431</td>\n",
              "      <td>0.064067</td>\n",
              "      <td>133171200</td>\n",
              "    </tr>\n",
              "    <tr>\n",
              "      <th>3</th>\n",
              "      <td>1986-03-18</td>\n",
              "      <td>0.102431</td>\n",
              "      <td>0.103299</td>\n",
              "      <td>0.098958</td>\n",
              "      <td>0.099826</td>\n",
              "      <td>0.062437</td>\n",
              "      <td>67766400</td>\n",
              "    </tr>\n",
              "    <tr>\n",
              "      <th>4</th>\n",
              "      <td>1986-03-19</td>\n",
              "      <td>0.099826</td>\n",
              "      <td>0.100694</td>\n",
              "      <td>0.097222</td>\n",
              "      <td>0.098090</td>\n",
              "      <td>0.061351</td>\n",
              "      <td>47894400</td>\n",
              "    </tr>\n",
              "    <tr>\n",
              "      <th>...</th>\n",
              "      <td>...</td>\n",
              "      <td>...</td>\n",
              "      <td>...</td>\n",
              "      <td>...</td>\n",
              "      <td>...</td>\n",
              "      <td>...</td>\n",
              "      <td>...</td>\n",
              "    </tr>\n",
              "    <tr>\n",
              "      <th>9258</th>\n",
              "      <td>2022-12-05</td>\n",
              "      <td>252.009995</td>\n",
              "      <td>253.820007</td>\n",
              "      <td>248.059998</td>\n",
              "      <td>250.199997</td>\n",
              "      <td>250.199997</td>\n",
              "      <td>23435300</td>\n",
              "    </tr>\n",
              "    <tr>\n",
              "      <th>9259</th>\n",
              "      <td>2022-12-06</td>\n",
              "      <td>250.820007</td>\n",
              "      <td>251.860001</td>\n",
              "      <td>243.779999</td>\n",
              "      <td>245.119995</td>\n",
              "      <td>245.119995</td>\n",
              "      <td>22463700</td>\n",
              "    </tr>\n",
              "    <tr>\n",
              "      <th>9260</th>\n",
              "      <td>2022-12-07</td>\n",
              "      <td>244.830002</td>\n",
              "      <td>246.160004</td>\n",
              "      <td>242.210007</td>\n",
              "      <td>244.369995</td>\n",
              "      <td>244.369995</td>\n",
              "      <td>20481500</td>\n",
              "    </tr>\n",
              "    <tr>\n",
              "      <th>9261</th>\n",
              "      <td>2022-12-08</td>\n",
              "      <td>244.839996</td>\n",
              "      <td>248.740005</td>\n",
              "      <td>243.059998</td>\n",
              "      <td>247.399994</td>\n",
              "      <td>247.399994</td>\n",
              "      <td>22611800</td>\n",
              "    </tr>\n",
              "    <tr>\n",
              "      <th>9262</th>\n",
              "      <td>2022-12-09</td>\n",
              "      <td>244.699997</td>\n",
              "      <td>248.309998</td>\n",
              "      <td>244.160004</td>\n",
              "      <td>245.419998</td>\n",
              "      <td>245.419998</td>\n",
              "      <td>20607100</td>\n",
              "    </tr>\n",
              "  </tbody>\n",
              "</table>\n",
              "<p>9263 rows × 7 columns</p>\n",
              "</div>\n",
              "      <button class=\"colab-df-convert\" onclick=\"convertToInteractive('df-7677d45c-7e07-4cf2-9ca5-75e91f628c80')\"\n",
              "              title=\"Convert this dataframe to an interactive table.\"\n",
              "              style=\"display:none;\">\n",
              "        \n",
              "  <svg xmlns=\"http://www.w3.org/2000/svg\" height=\"24px\"viewBox=\"0 0 24 24\"\n",
              "       width=\"24px\">\n",
              "    <path d=\"M0 0h24v24H0V0z\" fill=\"none\"/>\n",
              "    <path d=\"M18.56 5.44l.94 2.06.94-2.06 2.06-.94-2.06-.94-.94-2.06-.94 2.06-2.06.94zm-11 1L8.5 8.5l.94-2.06 2.06-.94-2.06-.94L8.5 2.5l-.94 2.06-2.06.94zm10 10l.94 2.06.94-2.06 2.06-.94-2.06-.94-.94-2.06-.94 2.06-2.06.94z\"/><path d=\"M17.41 7.96l-1.37-1.37c-.4-.4-.92-.59-1.43-.59-.52 0-1.04.2-1.43.59L10.3 9.45l-7.72 7.72c-.78.78-.78 2.05 0 2.83L4 21.41c.39.39.9.59 1.41.59.51 0 1.02-.2 1.41-.59l7.78-7.78 2.81-2.81c.8-.78.8-2.07 0-2.86zM5.41 20L4 18.59l7.72-7.72 1.47 1.35L5.41 20z\"/>\n",
              "  </svg>\n",
              "      </button>\n",
              "      \n",
              "  <style>\n",
              "    .colab-df-container {\n",
              "      display:flex;\n",
              "      flex-wrap:wrap;\n",
              "      gap: 12px;\n",
              "    }\n",
              "\n",
              "    .colab-df-convert {\n",
              "      background-color: #E8F0FE;\n",
              "      border: none;\n",
              "      border-radius: 50%;\n",
              "      cursor: pointer;\n",
              "      display: none;\n",
              "      fill: #1967D2;\n",
              "      height: 32px;\n",
              "      padding: 0 0 0 0;\n",
              "      width: 32px;\n",
              "    }\n",
              "\n",
              "    .colab-df-convert:hover {\n",
              "      background-color: #E2EBFA;\n",
              "      box-shadow: 0px 1px 2px rgba(60, 64, 67, 0.3), 0px 1px 3px 1px rgba(60, 64, 67, 0.15);\n",
              "      fill: #174EA6;\n",
              "    }\n",
              "\n",
              "    [theme=dark] .colab-df-convert {\n",
              "      background-color: #3B4455;\n",
              "      fill: #D2E3FC;\n",
              "    }\n",
              "\n",
              "    [theme=dark] .colab-df-convert:hover {\n",
              "      background-color: #434B5C;\n",
              "      box-shadow: 0px 1px 3px 1px rgba(0, 0, 0, 0.15);\n",
              "      filter: drop-shadow(0px 1px 2px rgba(0, 0, 0, 0.3));\n",
              "      fill: #FFFFFF;\n",
              "    }\n",
              "  </style>\n",
              "\n",
              "      <script>\n",
              "        const buttonEl =\n",
              "          document.querySelector('#df-7677d45c-7e07-4cf2-9ca5-75e91f628c80 button.colab-df-convert');\n",
              "        buttonEl.style.display =\n",
              "          google.colab.kernel.accessAllowed ? 'block' : 'none';\n",
              "\n",
              "        async function convertToInteractive(key) {\n",
              "          const element = document.querySelector('#df-7677d45c-7e07-4cf2-9ca5-75e91f628c80');\n",
              "          const dataTable =\n",
              "            await google.colab.kernel.invokeFunction('convertToInteractive',\n",
              "                                                     [key], {});\n",
              "          if (!dataTable) return;\n",
              "\n",
              "          const docLinkHtml = 'Like what you see? Visit the ' +\n",
              "            '<a target=\"_blank\" href=https://colab.research.google.com/notebooks/data_table.ipynb>data table notebook</a>'\n",
              "            + ' to learn more about interactive tables.';\n",
              "          element.innerHTML = '';\n",
              "          dataTable['output_type'] = 'display_data';\n",
              "          await google.colab.output.renderOutput(dataTable, element);\n",
              "          const docLink = document.createElement('div');\n",
              "          docLink.innerHTML = docLinkHtml;\n",
              "          element.appendChild(docLink);\n",
              "        }\n",
              "      </script>\n",
              "    </div>\n",
              "  </div>\n",
              "  "
            ]
          },
          "metadata": {},
          "execution_count": 12
        }
      ],
      "source": [
        "import pandas as pd \n",
        "\n",
        "df = pd.read_csv(\"MSFT.csv\")\n",
        "df"
      ]
    },
    {
      "cell_type": "code",
      "source": [
        "# For simplicity, we only use the date and closing values \n",
        "\n",
        "df = df[[\"Date\", \"Close\"]]\n",
        "df"
      ],
      "metadata": {
        "colab": {
          "base_uri": "https://localhost:8080/",
          "height": 423
        },
        "id": "pYnN7hYsEf4v",
        "outputId": "bdc77e67-60a3-4521-c954-d70c0a32054e"
      },
      "execution_count": 13,
      "outputs": [
        {
          "output_type": "execute_result",
          "data": {
            "text/plain": [
              "            Date       Close\n",
              "0     1986-03-13    0.097222\n",
              "1     1986-03-14    0.100694\n",
              "2     1986-03-17    0.102431\n",
              "3     1986-03-18    0.099826\n",
              "4     1986-03-19    0.098090\n",
              "...          ...         ...\n",
              "9258  2022-12-05  250.199997\n",
              "9259  2022-12-06  245.119995\n",
              "9260  2022-12-07  244.369995\n",
              "9261  2022-12-08  247.399994\n",
              "9262  2022-12-09  245.419998\n",
              "\n",
              "[9263 rows x 2 columns]"
            ],
            "text/html": [
              "\n",
              "  <div id=\"df-4057a049-9c9e-42c1-b570-4b855bfe59d3\">\n",
              "    <div class=\"colab-df-container\">\n",
              "      <div>\n",
              "<style scoped>\n",
              "    .dataframe tbody tr th:only-of-type {\n",
              "        vertical-align: middle;\n",
              "    }\n",
              "\n",
              "    .dataframe tbody tr th {\n",
              "        vertical-align: top;\n",
              "    }\n",
              "\n",
              "    .dataframe thead th {\n",
              "        text-align: right;\n",
              "    }\n",
              "</style>\n",
              "<table border=\"1\" class=\"dataframe\">\n",
              "  <thead>\n",
              "    <tr style=\"text-align: right;\">\n",
              "      <th></th>\n",
              "      <th>Date</th>\n",
              "      <th>Close</th>\n",
              "    </tr>\n",
              "  </thead>\n",
              "  <tbody>\n",
              "    <tr>\n",
              "      <th>0</th>\n",
              "      <td>1986-03-13</td>\n",
              "      <td>0.097222</td>\n",
              "    </tr>\n",
              "    <tr>\n",
              "      <th>1</th>\n",
              "      <td>1986-03-14</td>\n",
              "      <td>0.100694</td>\n",
              "    </tr>\n",
              "    <tr>\n",
              "      <th>2</th>\n",
              "      <td>1986-03-17</td>\n",
              "      <td>0.102431</td>\n",
              "    </tr>\n",
              "    <tr>\n",
              "      <th>3</th>\n",
              "      <td>1986-03-18</td>\n",
              "      <td>0.099826</td>\n",
              "    </tr>\n",
              "    <tr>\n",
              "      <th>4</th>\n",
              "      <td>1986-03-19</td>\n",
              "      <td>0.098090</td>\n",
              "    </tr>\n",
              "    <tr>\n",
              "      <th>...</th>\n",
              "      <td>...</td>\n",
              "      <td>...</td>\n",
              "    </tr>\n",
              "    <tr>\n",
              "      <th>9258</th>\n",
              "      <td>2022-12-05</td>\n",
              "      <td>250.199997</td>\n",
              "    </tr>\n",
              "    <tr>\n",
              "      <th>9259</th>\n",
              "      <td>2022-12-06</td>\n",
              "      <td>245.119995</td>\n",
              "    </tr>\n",
              "    <tr>\n",
              "      <th>9260</th>\n",
              "      <td>2022-12-07</td>\n",
              "      <td>244.369995</td>\n",
              "    </tr>\n",
              "    <tr>\n",
              "      <th>9261</th>\n",
              "      <td>2022-12-08</td>\n",
              "      <td>247.399994</td>\n",
              "    </tr>\n",
              "    <tr>\n",
              "      <th>9262</th>\n",
              "      <td>2022-12-09</td>\n",
              "      <td>245.419998</td>\n",
              "    </tr>\n",
              "  </tbody>\n",
              "</table>\n",
              "<p>9263 rows × 2 columns</p>\n",
              "</div>\n",
              "      <button class=\"colab-df-convert\" onclick=\"convertToInteractive('df-4057a049-9c9e-42c1-b570-4b855bfe59d3')\"\n",
              "              title=\"Convert this dataframe to an interactive table.\"\n",
              "              style=\"display:none;\">\n",
              "        \n",
              "  <svg xmlns=\"http://www.w3.org/2000/svg\" height=\"24px\"viewBox=\"0 0 24 24\"\n",
              "       width=\"24px\">\n",
              "    <path d=\"M0 0h24v24H0V0z\" fill=\"none\"/>\n",
              "    <path d=\"M18.56 5.44l.94 2.06.94-2.06 2.06-.94-2.06-.94-.94-2.06-.94 2.06-2.06.94zm-11 1L8.5 8.5l.94-2.06 2.06-.94-2.06-.94L8.5 2.5l-.94 2.06-2.06.94zm10 10l.94 2.06.94-2.06 2.06-.94-2.06-.94-.94-2.06-.94 2.06-2.06.94z\"/><path d=\"M17.41 7.96l-1.37-1.37c-.4-.4-.92-.59-1.43-.59-.52 0-1.04.2-1.43.59L10.3 9.45l-7.72 7.72c-.78.78-.78 2.05 0 2.83L4 21.41c.39.39.9.59 1.41.59.51 0 1.02-.2 1.41-.59l7.78-7.78 2.81-2.81c.8-.78.8-2.07 0-2.86zM5.41 20L4 18.59l7.72-7.72 1.47 1.35L5.41 20z\"/>\n",
              "  </svg>\n",
              "      </button>\n",
              "      \n",
              "  <style>\n",
              "    .colab-df-container {\n",
              "      display:flex;\n",
              "      flex-wrap:wrap;\n",
              "      gap: 12px;\n",
              "    }\n",
              "\n",
              "    .colab-df-convert {\n",
              "      background-color: #E8F0FE;\n",
              "      border: none;\n",
              "      border-radius: 50%;\n",
              "      cursor: pointer;\n",
              "      display: none;\n",
              "      fill: #1967D2;\n",
              "      height: 32px;\n",
              "      padding: 0 0 0 0;\n",
              "      width: 32px;\n",
              "    }\n",
              "\n",
              "    .colab-df-convert:hover {\n",
              "      background-color: #E2EBFA;\n",
              "      box-shadow: 0px 1px 2px rgba(60, 64, 67, 0.3), 0px 1px 3px 1px rgba(60, 64, 67, 0.15);\n",
              "      fill: #174EA6;\n",
              "    }\n",
              "\n",
              "    [theme=dark] .colab-df-convert {\n",
              "      background-color: #3B4455;\n",
              "      fill: #D2E3FC;\n",
              "    }\n",
              "\n",
              "    [theme=dark] .colab-df-convert:hover {\n",
              "      background-color: #434B5C;\n",
              "      box-shadow: 0px 1px 3px 1px rgba(0, 0, 0, 0.15);\n",
              "      filter: drop-shadow(0px 1px 2px rgba(0, 0, 0, 0.3));\n",
              "      fill: #FFFFFF;\n",
              "    }\n",
              "  </style>\n",
              "\n",
              "      <script>\n",
              "        const buttonEl =\n",
              "          document.querySelector('#df-4057a049-9c9e-42c1-b570-4b855bfe59d3 button.colab-df-convert');\n",
              "        buttonEl.style.display =\n",
              "          google.colab.kernel.accessAllowed ? 'block' : 'none';\n",
              "\n",
              "        async function convertToInteractive(key) {\n",
              "          const element = document.querySelector('#df-4057a049-9c9e-42c1-b570-4b855bfe59d3');\n",
              "          const dataTable =\n",
              "            await google.colab.kernel.invokeFunction('convertToInteractive',\n",
              "                                                     [key], {});\n",
              "          if (!dataTable) return;\n",
              "\n",
              "          const docLinkHtml = 'Like what you see? Visit the ' +\n",
              "            '<a target=\"_blank\" href=https://colab.research.google.com/notebooks/data_table.ipynb>data table notebook</a>'\n",
              "            + ' to learn more about interactive tables.';\n",
              "          element.innerHTML = '';\n",
              "          dataTable['output_type'] = 'display_data';\n",
              "          await google.colab.output.renderOutput(dataTable, element);\n",
              "          const docLink = document.createElement('div');\n",
              "          docLink.innerHTML = docLinkHtml;\n",
              "          element.appendChild(docLink);\n",
              "        }\n",
              "      </script>\n",
              "    </div>\n",
              "  </div>\n",
              "  "
            ]
          },
          "metadata": {},
          "execution_count": 13
        }
      ]
    },
    {
      "cell_type": "code",
      "source": [
        "# Date is currently a string object and not a datetime object \n",
        "\n",
        "import datetime \n",
        "\n",
        "def str_to_datetime(s): \n",
        "  split = s.split('-')\n",
        "  year, month, day = int(split[0]), int(split[1]), int(split[2])\n",
        "  return datetime.datetime(year = year, month = month, day = day)\n",
        "\n",
        "df['Date'] = df['Date'].apply(str_to_datetime)\n",
        "df['Date']"
      ],
      "metadata": {
        "colab": {
          "base_uri": "https://localhost:8080/"
        },
        "id": "luylU53jExc6",
        "outputId": "d5a0d654-2af0-4337-87ee-8863fbe701ee"
      },
      "execution_count": 14,
      "outputs": [
        {
          "output_type": "stream",
          "name": "stderr",
          "text": [
            "<ipython-input-14-717017e809a6>:10: SettingWithCopyWarning: \n",
            "A value is trying to be set on a copy of a slice from a DataFrame.\n",
            "Try using .loc[row_indexer,col_indexer] = value instead\n",
            "\n",
            "See the caveats in the documentation: https://pandas.pydata.org/pandas-docs/stable/user_guide/indexing.html#returning-a-view-versus-a-copy\n",
            "  df['Date'] = df['Date'].apply(str_to_datetime)\n"
          ]
        },
        {
          "output_type": "execute_result",
          "data": {
            "text/plain": [
              "0      1986-03-13\n",
              "1      1986-03-14\n",
              "2      1986-03-17\n",
              "3      1986-03-18\n",
              "4      1986-03-19\n",
              "          ...    \n",
              "9258   2022-12-05\n",
              "9259   2022-12-06\n",
              "9260   2022-12-07\n",
              "9261   2022-12-08\n",
              "9262   2022-12-09\n",
              "Name: Date, Length: 9263, dtype: datetime64[ns]"
            ]
          },
          "metadata": {},
          "execution_count": 14
        }
      ]
    },
    {
      "cell_type": "code",
      "source": [
        "# Replace index with dates instead of integers \n",
        "\n",
        "df.index = df.pop('Date')\n",
        "df"
      ],
      "metadata": {
        "colab": {
          "base_uri": "https://localhost:8080/",
          "height": 455
        },
        "id": "djM8yX5ZFycG",
        "outputId": "7760a18c-0484-493d-ab5c-0f6195c3c03b"
      },
      "execution_count": 15,
      "outputs": [
        {
          "output_type": "execute_result",
          "data": {
            "text/plain": [
              "                 Close\n",
              "Date                  \n",
              "1986-03-13    0.097222\n",
              "1986-03-14    0.100694\n",
              "1986-03-17    0.102431\n",
              "1986-03-18    0.099826\n",
              "1986-03-19    0.098090\n",
              "...                ...\n",
              "2022-12-05  250.199997\n",
              "2022-12-06  245.119995\n",
              "2022-12-07  244.369995\n",
              "2022-12-08  247.399994\n",
              "2022-12-09  245.419998\n",
              "\n",
              "[9263 rows x 1 columns]"
            ],
            "text/html": [
              "\n",
              "  <div id=\"df-c324edad-8c69-4b43-b74f-c6d6ebef94d4\">\n",
              "    <div class=\"colab-df-container\">\n",
              "      <div>\n",
              "<style scoped>\n",
              "    .dataframe tbody tr th:only-of-type {\n",
              "        vertical-align: middle;\n",
              "    }\n",
              "\n",
              "    .dataframe tbody tr th {\n",
              "        vertical-align: top;\n",
              "    }\n",
              "\n",
              "    .dataframe thead th {\n",
              "        text-align: right;\n",
              "    }\n",
              "</style>\n",
              "<table border=\"1\" class=\"dataframe\">\n",
              "  <thead>\n",
              "    <tr style=\"text-align: right;\">\n",
              "      <th></th>\n",
              "      <th>Close</th>\n",
              "    </tr>\n",
              "    <tr>\n",
              "      <th>Date</th>\n",
              "      <th></th>\n",
              "    </tr>\n",
              "  </thead>\n",
              "  <tbody>\n",
              "    <tr>\n",
              "      <th>1986-03-13</th>\n",
              "      <td>0.097222</td>\n",
              "    </tr>\n",
              "    <tr>\n",
              "      <th>1986-03-14</th>\n",
              "      <td>0.100694</td>\n",
              "    </tr>\n",
              "    <tr>\n",
              "      <th>1986-03-17</th>\n",
              "      <td>0.102431</td>\n",
              "    </tr>\n",
              "    <tr>\n",
              "      <th>1986-03-18</th>\n",
              "      <td>0.099826</td>\n",
              "    </tr>\n",
              "    <tr>\n",
              "      <th>1986-03-19</th>\n",
              "      <td>0.098090</td>\n",
              "    </tr>\n",
              "    <tr>\n",
              "      <th>...</th>\n",
              "      <td>...</td>\n",
              "    </tr>\n",
              "    <tr>\n",
              "      <th>2022-12-05</th>\n",
              "      <td>250.199997</td>\n",
              "    </tr>\n",
              "    <tr>\n",
              "      <th>2022-12-06</th>\n",
              "      <td>245.119995</td>\n",
              "    </tr>\n",
              "    <tr>\n",
              "      <th>2022-12-07</th>\n",
              "      <td>244.369995</td>\n",
              "    </tr>\n",
              "    <tr>\n",
              "      <th>2022-12-08</th>\n",
              "      <td>247.399994</td>\n",
              "    </tr>\n",
              "    <tr>\n",
              "      <th>2022-12-09</th>\n",
              "      <td>245.419998</td>\n",
              "    </tr>\n",
              "  </tbody>\n",
              "</table>\n",
              "<p>9263 rows × 1 columns</p>\n",
              "</div>\n",
              "      <button class=\"colab-df-convert\" onclick=\"convertToInteractive('df-c324edad-8c69-4b43-b74f-c6d6ebef94d4')\"\n",
              "              title=\"Convert this dataframe to an interactive table.\"\n",
              "              style=\"display:none;\">\n",
              "        \n",
              "  <svg xmlns=\"http://www.w3.org/2000/svg\" height=\"24px\"viewBox=\"0 0 24 24\"\n",
              "       width=\"24px\">\n",
              "    <path d=\"M0 0h24v24H0V0z\" fill=\"none\"/>\n",
              "    <path d=\"M18.56 5.44l.94 2.06.94-2.06 2.06-.94-2.06-.94-.94-2.06-.94 2.06-2.06.94zm-11 1L8.5 8.5l.94-2.06 2.06-.94-2.06-.94L8.5 2.5l-.94 2.06-2.06.94zm10 10l.94 2.06.94-2.06 2.06-.94-2.06-.94-.94-2.06-.94 2.06-2.06.94z\"/><path d=\"M17.41 7.96l-1.37-1.37c-.4-.4-.92-.59-1.43-.59-.52 0-1.04.2-1.43.59L10.3 9.45l-7.72 7.72c-.78.78-.78 2.05 0 2.83L4 21.41c.39.39.9.59 1.41.59.51 0 1.02-.2 1.41-.59l7.78-7.78 2.81-2.81c.8-.78.8-2.07 0-2.86zM5.41 20L4 18.59l7.72-7.72 1.47 1.35L5.41 20z\"/>\n",
              "  </svg>\n",
              "      </button>\n",
              "      \n",
              "  <style>\n",
              "    .colab-df-container {\n",
              "      display:flex;\n",
              "      flex-wrap:wrap;\n",
              "      gap: 12px;\n",
              "    }\n",
              "\n",
              "    .colab-df-convert {\n",
              "      background-color: #E8F0FE;\n",
              "      border: none;\n",
              "      border-radius: 50%;\n",
              "      cursor: pointer;\n",
              "      display: none;\n",
              "      fill: #1967D2;\n",
              "      height: 32px;\n",
              "      padding: 0 0 0 0;\n",
              "      width: 32px;\n",
              "    }\n",
              "\n",
              "    .colab-df-convert:hover {\n",
              "      background-color: #E2EBFA;\n",
              "      box-shadow: 0px 1px 2px rgba(60, 64, 67, 0.3), 0px 1px 3px 1px rgba(60, 64, 67, 0.15);\n",
              "      fill: #174EA6;\n",
              "    }\n",
              "\n",
              "    [theme=dark] .colab-df-convert {\n",
              "      background-color: #3B4455;\n",
              "      fill: #D2E3FC;\n",
              "    }\n",
              "\n",
              "    [theme=dark] .colab-df-convert:hover {\n",
              "      background-color: #434B5C;\n",
              "      box-shadow: 0px 1px 3px 1px rgba(0, 0, 0, 0.15);\n",
              "      filter: drop-shadow(0px 1px 2px rgba(0, 0, 0, 0.3));\n",
              "      fill: #FFFFFF;\n",
              "    }\n",
              "  </style>\n",
              "\n",
              "      <script>\n",
              "        const buttonEl =\n",
              "          document.querySelector('#df-c324edad-8c69-4b43-b74f-c6d6ebef94d4 button.colab-df-convert');\n",
              "        buttonEl.style.display =\n",
              "          google.colab.kernel.accessAllowed ? 'block' : 'none';\n",
              "\n",
              "        async function convertToInteractive(key) {\n",
              "          const element = document.querySelector('#df-c324edad-8c69-4b43-b74f-c6d6ebef94d4');\n",
              "          const dataTable =\n",
              "            await google.colab.kernel.invokeFunction('convertToInteractive',\n",
              "                                                     [key], {});\n",
              "          if (!dataTable) return;\n",
              "\n",
              "          const docLinkHtml = 'Like what you see? Visit the ' +\n",
              "            '<a target=\"_blank\" href=https://colab.research.google.com/notebooks/data_table.ipynb>data table notebook</a>'\n",
              "            + ' to learn more about interactive tables.';\n",
              "          element.innerHTML = '';\n",
              "          dataTable['output_type'] = 'display_data';\n",
              "          await google.colab.output.renderOutput(dataTable, element);\n",
              "          const docLink = document.createElement('div');\n",
              "          docLink.innerHTML = docLinkHtml;\n",
              "          element.appendChild(docLink);\n",
              "        }\n",
              "      </script>\n",
              "    </div>\n",
              "  </div>\n",
              "  "
            ]
          },
          "metadata": {},
          "execution_count": 15
        }
      ]
    },
    {
      "cell_type": "code",
      "source": [
        "import matplotlib.pyplot as plt \n",
        "\n",
        "plt.plot(df.index, df['Close'])"
      ],
      "metadata": {
        "colab": {
          "base_uri": "https://localhost:8080/",
          "height": 283
        },
        "id": "6BwslvMrGBAr",
        "outputId": "20ca5c51-2810-4f33-ea3d-3679ecb9d92d"
      },
      "execution_count": 16,
      "outputs": [
        {
          "output_type": "execute_result",
          "data": {
            "text/plain": [
              "[<matplotlib.lines.Line2D at 0x7fcf9d5771f0>]"
            ]
          },
          "metadata": {},
          "execution_count": 16
        },
        {
          "output_type": "display_data",
          "data": {
            "text/plain": [
              "<Figure size 432x288 with 1 Axes>"
            ],
            "image/png": "[encoded data removed]"
          },
          "metadata": {
            "needs_background": "light"
          }
        }
      ]
    },
    {
      "cell_type": "markdown",
      "source": [
        "## **Turn the problem into a supervised learning problem for LSTM**"
      ],
      "metadata": {
        "id": "bsJo7xzzGjUS"
      }
    },
    {
      "cell_type": "code",
      "source": [
        "import numpy as np\n",
        "\n",
        "def df_to_windowed_df(dataframe, first_date_str, last_date_str, n=3):\n",
        "  first_date = str_to_datetime(first_date_str)\n",
        "  last_date  = str_to_datetime(last_date_str)\n",
        "\n",
        "  target_date = first_date\n",
        "  \n",
        "  dates = []\n",
        "  X, Y = [], []\n",
        "\n",
        "  last_time = False\n",
        "  while True:\n",
        "    df_subset = dataframe.loc[:target_date].tail(n+1)\n",
        "    \n",
        "    if len(df_subset) != n+1:\n",
        "      print(f'Error: Window of size {n} is too large for date {target_date}')\n",
        "      return\n",
        "\n",
        "    values = df_subset['Close'].to_numpy()\n",
        "    x, y = values[:-1], values[-1]\n",
        "\n",
        "    dates.append(target_date)\n",
        "    X.append(x)\n",
        "    Y.append(y)\n",
        "\n",
        "    next_week = dataframe.loc[target_date:target_date+datetime.timedelta(days=7)]\n",
        "    next_datetime_str = str(next_week.head(2).tail(1).index.values[0])\n",
        "    next_date_str = next_datetime_str.split('T')[0]\n",
        "    year_month_day = next_date_str.split('-')\n",
        "    year, month, day = year_month_day\n",
        "    next_date = datetime.datetime(day=int(day), month=int(month), year=int(year))\n",
        "    \n",
        "    if last_time:\n",
        "      break\n",
        "    \n",
        "    target_date = next_date\n",
        "\n",
        "    if target_date == last_date:\n",
        "      last_time = True\n",
        "    \n",
        "  ret_df = pd.DataFrame({})\n",
        "  ret_df['Target Date'] = dates\n",
        "  \n",
        "  X = np.array(X)\n",
        "  for i in range(0, n):\n",
        "    X[:, i]\n",
        "    ret_df[f'Target-{n-i}'] = X[:, i]\n",
        "  \n",
        "  ret_df['Target'] = Y\n",
        "\n",
        "  return ret_df"
      ],
      "metadata": {
        "id": "rApXctgkGWXS"
      },
      "execution_count": 22,
      "outputs": []
    },
    {
      "cell_type": "code",
      "source": [
        "windowed_df = df_to_windowed_df(df, '2021-12-09', '2022-12-09', n = 3)\n",
        "windowed_df"
      ],
      "metadata": {
        "colab": {
          "base_uri": "https://localhost:8080/",
          "height": 423
        },
        "id": "QSCm23nXIi0a",
        "outputId": "9467a5c7-4ea9-4bf1-cb4f-27a1f58366af"
      },
      "execution_count": 45,
      "outputs": [
        {
          "output_type": "execute_result",
          "data": {
            "text/plain": [
              "    Target Date    Target-3    Target-2    Target-1      Target\n",
              "0    2021-12-09  326.190002  334.920013  334.970001  333.100006\n",
              "1    2021-12-10  334.920013  334.970001  333.100006  342.540009\n",
              "2    2021-12-13  334.970001  333.100006  342.540009  339.399994\n",
              "3    2021-12-14  333.100006  342.540009  339.399994  328.339996\n",
              "4    2021-12-15  342.540009  339.399994  328.339996  334.649994\n",
              "..          ...         ...         ...         ...         ...\n",
              "248  2022-12-05  255.139999  254.690002  255.020004  250.199997\n",
              "249  2022-12-06  254.690002  255.020004  250.199997  245.119995\n",
              "250  2022-12-07  255.020004  250.199997  245.119995  244.369995\n",
              "251  2022-12-08  250.199997  245.119995  244.369995  247.399994\n",
              "252  2022-12-09  245.119995  244.369995  247.399994  245.419998\n",
              "\n",
              "[253 rows x 5 columns]"
            ],
            "text/html": [
              "\n",
              "  <div id=\"df-94100baa-b317-4d61-9011-62cec9903e5c\">\n",
              "    <div class=\"colab-df-container\">\n",
              "      <div>\n",
              "<style scoped>\n",
              "    .dataframe tbody tr th:only-of-type {\n",
              "        vertical-align: middle;\n",
              "    }\n",
              "\n",
              "    .dataframe tbody tr th {\n",
              "        vertical-align: top;\n",
              "    }\n",
              "\n",
              "    .dataframe thead th {\n",
              "        text-align: right;\n",
              "    }\n",
              "</style>\n",
              "<table border=\"1\" class=\"dataframe\">\n",
              "  <thead>\n",
              "    <tr style=\"text-align: right;\">\n",
              "      <th></th>\n",
              "      <th>Target Date</th>\n",
              "      <th>Target-3</th>\n",
              "      <th>Target-2</th>\n",
              "      <th>Target-1</th>\n",
              "      <th>Target</th>\n",
              "    </tr>\n",
              "  </thead>\n",
              "  <tbody>\n",
              "    <tr>\n",
              "      <th>0</th>\n",
              "      <td>2021-12-09</td>\n",
              "      <td>326.190002</td>\n",
              "      <td>334.920013</td>\n",
              "      <td>334.970001</td>\n",
              "      <td>333.100006</td>\n",
              "    </tr>\n",
              "    <tr>\n",
              "      <th>1</th>\n",
              "      <td>2021-12-10</td>\n",
              "      <td>334.920013</td>\n",
              "      <td>334.970001</td>\n",
              "      <td>333.100006</td>\n",
              "      <td>342.540009</td>\n",
              "    </tr>\n",
              "    <tr>\n",
              "      <th>2</th>\n",
              "      <td>2021-12-13</td>\n",
              "      <td>334.970001</td>\n",
              "      <td>333.100006</td>\n",
              "      <td>342.540009</td>\n",
              "      <td>339.399994</td>\n",
              "    </tr>\n",
              "    <tr>\n",
              "      <th>3</th>\n",
              "      <td>2021-12-14</td>\n",
              "      <td>333.100006</td>\n",
              "      <td>342.540009</td>\n",
              "      <td>339.399994</td>\n",
              "      <td>328.339996</td>\n",
              "    </tr>\n",
              "    <tr>\n",
              "      <th>4</th>\n",
              "      <td>2021-12-15</td>\n",
              "      <td>342.540009</td>\n",
              "      <td>339.399994</td>\n",
              "      <td>328.339996</td>\n",
              "      <td>334.649994</td>\n",
              "    </tr>\n",
              "    <tr>\n",
              "      <th>...</th>\n",
              "      <td>...</td>\n",
              "      <td>...</td>\n",
              "      <td>...</td>\n",
              "      <td>...</td>\n",
              "      <td>...</td>\n",
              "    </tr>\n",
              "    <tr>\n",
              "      <th>248</th>\n",
              "      <td>2022-12-05</td>\n",
              "      <td>255.139999</td>\n",
              "      <td>254.690002</td>\n",
              "      <td>255.020004</td>\n",
              "      <td>250.199997</td>\n",
              "    </tr>\n",
              "    <tr>\n",
              "      <th>249</th>\n",
              "      <td>2022-12-06</td>\n",
              "      <td>254.690002</td>\n",
              "      <td>255.020004</td>\n",
              "      <td>250.199997</td>\n",
              "      <td>245.119995</td>\n",
              "    </tr>\n",
              "    <tr>\n",
              "      <th>250</th>\n",
              "      <td>2022-12-07</td>\n",
              "      <td>255.020004</td>\n",
              "      <td>250.199997</td>\n",
              "      <td>245.119995</td>\n",
              "      <td>244.369995</td>\n",
              "    </tr>\n",
              "    <tr>\n",
              "      <th>251</th>\n",
              "      <td>2022-12-08</td>\n",
              "      <td>250.199997</td>\n",
              "      <td>245.119995</td>\n",
              "      <td>244.369995</td>\n",
              "      <td>247.399994</td>\n",
              "    </tr>\n",
              "    <tr>\n",
              "      <th>252</th>\n",
              "      <td>2022-12-09</td>\n",
              "      <td>245.119995</td>\n",
              "      <td>244.369995</td>\n",
              "      <td>247.399994</td>\n",
              "      <td>245.419998</td>\n",
              "    </tr>\n",
              "  </tbody>\n",
              "</table>\n",
              "<p>253 rows × 5 columns</p>\n",
              "</div>\n",
              "      <button class=\"colab-df-convert\" onclick=\"convertToInteractive('df-94100baa-b317-4d61-9011-62cec9903e5c')\"\n",
              "              title=\"Convert this dataframe to an interactive table.\"\n",
              "              style=\"display:none;\">\n",
              "        \n",
              "  <svg xmlns=\"http://www.w3.org/2000/svg\" height=\"24px\"viewBox=\"0 0 24 24\"\n",
              "       width=\"24px\">\n",
              "    <path d=\"M0 0h24v24H0V0z\" fill=\"none\"/>\n",
              "    <path d=\"M18.56 5.44l.94 2.06.94-2.06 2.06-.94-2.06-.94-.94-2.06-.94 2.06-2.06.94zm-11 1L8.5 8.5l.94-2.06 2.06-.94-2.06-.94L8.5 2.5l-.94 2.06-2.06.94zm10 10l.94 2.06.94-2.06 2.06-.94-2.06-.94-.94-2.06-.94 2.06-2.06.94z\"/><path d=\"M17.41 7.96l-1.37-1.37c-.4-.4-.92-.59-1.43-.59-.52 0-1.04.2-1.43.59L10.3 9.45l-7.72 7.72c-.78.78-.78 2.05 0 2.83L4 21.41c.39.39.9.59 1.41.59.51 0 1.02-.2 1.41-.59l7.78-7.78 2.81-2.81c.8-.78.8-2.07 0-2.86zM5.41 20L4 18.59l7.72-7.72 1.47 1.35L5.41 20z\"/>\n",
              "  </svg>\n",
              "      </button>\n",
              "      \n",
              "  <style>\n",
              "    .colab-df-container {\n",
              "      display:flex;\n",
              "      flex-wrap:wrap;\n",
              "      gap: 12px;\n",
              "    }\n",
              "\n",
              "    .colab-df-convert {\n",
              "      background-color: #E8F0FE;\n",
              "      border: none;\n",
              "      border-radius: 50%;\n",
              "      cursor: pointer;\n",
              "      display: none;\n",
              "      fill: #1967D2;\n",
              "      height: 32px;\n",
              "      padding: 0 0 0 0;\n",
              "      width: 32px;\n",
              "    }\n",
              "\n",
              "    .colab-df-convert:hover {\n",
              "      background-color: #E2EBFA;\n",
              "      box-shadow: 0px 1px 2px rgba(60, 64, 67, 0.3), 0px 1px 3px 1px rgba(60, 64, 67, 0.15);\n",
              "      fill: #174EA6;\n",
              "    }\n",
              "\n",
              "    [theme=dark] .colab-df-convert {\n",
              "      background-color: #3B4455;\n",
              "      fill: #D2E3FC;\n",
              "    }\n",
              "\n",
              "    [theme=dark] .colab-df-convert:hover {\n",
              "      background-color: #434B5C;\n",
              "      box-shadow: 0px 1px 3px 1px rgba(0, 0, 0, 0.15);\n",
              "      filter: drop-shadow(0px 1px 2px rgba(0, 0, 0, 0.3));\n",
              "      fill: #FFFFFF;\n",
              "    }\n",
              "  </style>\n",
              "\n",
              "      <script>\n",
              "        const buttonEl =\n",
              "          document.querySelector('#df-94100baa-b317-4d61-9011-62cec9903e5c button.colab-df-convert');\n",
              "        buttonEl.style.display =\n",
              "          google.colab.kernel.accessAllowed ? 'block' : 'none';\n",
              "\n",
              "        async function convertToInteractive(key) {\n",
              "          const element = document.querySelector('#df-94100baa-b317-4d61-9011-62cec9903e5c');\n",
              "          const dataTable =\n",
              "            await google.colab.kernel.invokeFunction('convertToInteractive',\n",
              "                                                     [key], {});\n",
              "          if (!dataTable) return;\n",
              "\n",
              "          const docLinkHtml = 'Like what you see? Visit the ' +\n",
              "            '<a target=\"_blank\" href=https://colab.research.google.com/notebooks/data_table.ipynb>data table notebook</a>'\n",
              "            + ' to learn more about interactive tables.';\n",
              "          element.innerHTML = '';\n",
              "          dataTable['output_type'] = 'display_data';\n",
              "          await google.colab.output.renderOutput(dataTable, element);\n",
              "          const docLink = document.createElement('div');\n",
              "          docLink.innerHTML = docLinkHtml;\n",
              "          element.appendChild(docLink);\n",
              "        }\n",
              "      </script>\n",
              "    </div>\n",
              "  </div>\n",
              "  "
            ]
          },
          "metadata": {},
          "execution_count": 45
        }
      ]
    },
    {
      "cell_type": "markdown",
      "source": [
        "\n",
        "\n",
        "*   Target is the output, which is also the closing price of the target date. \n",
        "*   Target - 3 represents closing price for the date that is 3 day behind the target date. \n",
        "\n",
        "*   Target - 3, target - 2 and target - 1 are inputs to the supervised learning problem while target is the output to the supervised learning problem. \n",
        "\n",
        "\n",
        "\n"
      ],
      "metadata": {
        "id": "2OqQPbOfJsFz"
      }
    },
    {
      "cell_type": "code",
      "source": [
        "# Convert to numpy array to be used for LSTM \n",
        "\n",
        "def windowed_df_to_date_X_y(windowed_dataframe): \n",
        "  df_as_np = windowed_dataframe.to_numpy()\n",
        "\n",
        "  dates = df_as_np[:,0]\n",
        "\n",
        "  middle_matrix = df_as_np[:, 1:-1]\n",
        "  X = middle_matrix.reshape((len(dates), middle_matrix.shape[1], 1)) # Last output is 1 because we only depend on closing price. \n",
        "\n",
        "  Y = df_as_np[:,-1]\n",
        "\n",
        "  return dates, X.astype(np.float32), Y.astype(np.float32)\n",
        "\n",
        "dates, X, y = windowed_df_to_date_X_y(windowed_df)"
      ],
      "metadata": {
        "id": "vVPf1pvDKJ8_"
      },
      "execution_count": 46,
      "outputs": []
    },
    {
      "cell_type": "markdown",
      "source": [
        "## **Splitting data**"
      ],
      "metadata": {
        "id": "kIo6yGcNLhaF"
      }
    },
    {
      "cell_type": "code",
      "source": [
        "q_80 = int(len(dates) * 0.8)\n",
        "q_90 = int(len(dates) * 0.9)\n",
        "\n",
        "dates_train, X_train, y_train = dates[:q_80], X[:q_80], y[:q_80]\n",
        "\n",
        "dates_val, X_val, y_val = dates[q_80:q_90], X[q_80:q_90], y[q_80:q_90]\n",
        "dates_test, X_test, y_test = dates[q_90:], X[q_90:], y[q_90:]"
      ],
      "metadata": {
        "id": "rfRA2WBALk2a"
      },
      "execution_count": 47,
      "outputs": []
    },
    {
      "cell_type": "code",
      "source": [
        "plt.plot(dates_train, y_train)\n",
        "plt.plot(dates_val, y_val)\n",
        "plt.plot(dates_test, y_test)\n",
        "\n",
        "plt.legend(['Train', 'Validation', 'Test'])"
      ],
      "metadata": {
        "colab": {
          "base_uri": "https://localhost:8080/",
          "height": 283
        },
        "id": "pA7TgIumL34C",
        "outputId": "64212353-dccb-4440-c4f8-c4655a404e2c"
      },
      "execution_count": 48,
      "outputs": [
        {
          "output_type": "execute_result",
          "data": {
            "text/plain": [
              "<matplotlib.legend.Legend at 0x7fcf3ba55f70>"
            ]
          },
          "metadata": {},
          "execution_count": 48
        },
        {
          "output_type": "display_data",
          "data": {
            "text/plain": [
              "<Figure size 432x288 with 1 Axes>"
            ],
            "image/png": "[encoded data removed]"
          },
          "metadata": {
            "needs_background": "light"
          }
        }
      ]
    },
    {
      "cell_type": "markdown",
      "source": [
        "## **Building LSTM**"
      ],
      "metadata": {
        "id": "9yvDzSHHMbAU"
      }
    },
    {
      "cell_type": "code",
      "source": [
        "from tensorflow.keras.models import Sequential\n",
        "from tensorflow.keras.optimizers import Adam\n",
        "from tensorflow.keras import layers"
      ],
      "metadata": {
        "id": "D_BIzBezMdxI"
      },
      "execution_count": 49,
      "outputs": []
    },
    {
      "cell_type": "code",
      "source": [
        "model = Sequential([layers.Input((3,1)), \n",
        "            layers.LSTM(64), \n",
        "            layers.Dense(32, activation = 'relu'), \n",
        "            layers.Dense(32, activation = 'relu'), \n",
        "            layers.Dense(1)])"
      ],
      "metadata": {
        "id": "3CR6urVZMjAs"
      },
      "execution_count": 50,
      "outputs": []
    },
    {
      "cell_type": "code",
      "source": [
        "model.compile(loss = 'mse', optimizer = Adam(learning_rate = 0.001), metrics = ['mean_absolute_error'])\n",
        "\n",
        "model.fit(X_train, y_train, validation_data = (X_val, y_val), epochs = 100)"
      ],
      "metadata": {
        "colab": {
          "base_uri": "https://localhost:8080/"
        },
        "id": "f6LKwgNLNLna",
        "outputId": "72130706-ccd2-4f1e-85d0-1ba19447076a"
      },
      "execution_count": 51,
      "outputs": [
        {
          "output_type": "stream",
          "name": "stdout",
          "text": [
            "Epoch 1/100\n",
            "7/7 [==============================] - 3s 94ms/step - loss: 80620.1016 - mean_absolute_error: 282.7897 - val_loss: 55205.9844 - val_mean_absolute_error: 234.8200\n",
            "Epoch 2/100\n",
            "7/7 [==============================] - 0s 8ms/step - loss: 80262.0625 - mean_absolute_error: 282.1554 - val_loss: 54914.2852 - val_mean_absolute_error: 234.1980\n",
            "Epoch 3/100\n",
            "7/7 [==============================] - 0s 8ms/step - loss: 79871.0078 - mean_absolute_error: 281.4631 - val_loss: 54525.9805 - val_mean_absolute_error: 233.3676\n",
            "Epoch 4/100\n",
            "7/7 [==============================] - 0s 8ms/step - loss: 79378.3359 - mean_absolute_error: 280.5849 - val_loss: 54089.8945 - val_mean_absolute_error: 232.4314\n",
            "Epoch 5/100\n",
            "7/7 [==============================] - 0s 9ms/step - loss: 78811.1719 - mean_absolute_error: 279.5718 - val_loss: 53518.4609 - val_mean_absolute_error: 231.1987\n",
            "Epoch 6/100\n",
            "7/7 [==============================] - 0s 10ms/step - loss: 78027.8438 - mean_absolute_error: 278.1685 - val_loss: 52678.7109 - val_mean_absolute_error: 229.3754\n",
            "Epoch 7/100\n",
            "7/7 [==============================] - 0s 10ms/step - loss: 76868.9609 - mean_absolute_error: 276.0759 - val_loss: 51563.5859 - val_mean_absolute_error: 226.9317\n",
            "Epoch 8/100\n",
            "7/7 [==============================] - 0s 9ms/step - loss: 75416.4531 - mean_absolute_error: 273.4310 - val_loss: 50215.8203 - val_mean_absolute_error: 223.9425\n",
            "Epoch 9/100\n",
            "7/7 [==============================] - 0s 9ms/step - loss: 73647.6250 - mean_absolute_error: 270.1816 - val_loss: 48517.2617 - val_mean_absolute_error: 220.1172\n",
            "Epoch 10/100\n",
            "7/7 [==============================] - 0s 10ms/step - loss: 71374.6953 - mean_absolute_error: 265.9288 - val_loss: 46292.7031 - val_mean_absolute_error: 215.0048\n",
            "Epoch 11/100\n",
            "7/7 [==============================] - 0s 8ms/step - loss: 68458.1641 - mean_absolute_error: 260.3794 - val_loss: 43761.8281 - val_mean_absolute_error: 209.0363\n",
            "Epoch 12/100\n",
            "7/7 [==============================] - 0s 8ms/step - loss: 65193.9766 - mean_absolute_error: 254.0640 - val_loss: 40843.0391 - val_mean_absolute_error: 201.9341\n",
            "Epoch 13/100\n",
            "7/7 [==============================] - 0s 17ms/step - loss: 61353.6602 - mean_absolute_error: 246.3755 - val_loss: 37459.2500 - val_mean_absolute_error: 193.3744\n",
            "Epoch 14/100\n",
            "7/7 [==============================] - 0s 12ms/step - loss: 56922.6445 - mean_absolute_error: 237.2477 - val_loss: 33746.4492 - val_mean_absolute_error: 183.5234\n",
            "Epoch 15/100\n",
            "7/7 [==============================] - 0s 24ms/step - loss: 52188.5742 - mean_absolute_error: 226.9477 - val_loss: 29577.8125 - val_mean_absolute_error: 171.7906\n",
            "Epoch 16/100\n",
            "7/7 [==============================] - 0s 18ms/step - loss: 46532.8828 - mean_absolute_error: 214.2215 - val_loss: 25026.1270 - val_mean_absolute_error: 157.9881\n",
            "Epoch 17/100\n",
            "7/7 [==============================] - 0s 17ms/step - loss: 40523.8281 - mean_absolute_error: 199.5993 - val_loss: 19850.8926 - val_mean_absolute_error: 140.6599\n",
            "Epoch 18/100\n",
            "7/7 [==============================] - 0s 24ms/step - loss: 33675.9062 - mean_absolute_error: 181.6252 - val_loss: 15326.5176 - val_mean_absolute_error: 123.5354\n",
            "Epoch 19/100\n",
            "7/7 [==============================] - 0s 17ms/step - loss: 27693.6875 - mean_absolute_error: 164.4438 - val_loss: 11275.3008 - val_mean_absolute_error: 105.8761\n",
            "Epoch 20/100\n",
            "7/7 [==============================] - 0s 12ms/step - loss: 22096.3594 - mean_absolute_error: 146.3757 - val_loss: 7672.7559 - val_mean_absolute_error: 87.2192\n",
            "Epoch 21/100\n",
            "7/7 [==============================] - 0s 23ms/step - loss: 16924.3359 - mean_absolute_error: 127.4065 - val_loss: 4616.7695 - val_mean_absolute_error: 67.4605\n",
            "Epoch 22/100\n",
            "7/7 [==============================] - 0s 15ms/step - loss: 12158.2529 - mean_absolute_error: 107.0720 - val_loss: 2245.0439 - val_mean_absolute_error: 46.6853\n",
            "Epoch 23/100\n",
            "7/7 [==============================] - 0s 16ms/step - loss: 8194.1660 - mean_absolute_error: 86.5910 - val_loss: 774.2988 - val_mean_absolute_error: 26.6225\n",
            "Epoch 24/100\n",
            "7/7 [==============================] - 0s 13ms/step - loss: 5135.3965 - mean_absolute_error: 66.6790 - val_loss: 119.4929 - val_mean_absolute_error: 8.6557\n",
            "Epoch 25/100\n",
            "7/7 [==============================] - 0s 17ms/step - loss: 2972.5020 - mean_absolute_error: 48.0775 - val_loss: 166.2696 - val_mean_absolute_error: 11.0994\n",
            "Epoch 26/100\n",
            "7/7 [==============================] - 0s 15ms/step - loss: 1670.0895 - mean_absolute_error: 33.4081 - val_loss: 674.8528 - val_mean_absolute_error: 24.6842\n",
            "Epoch 27/100\n",
            "7/7 [==============================] - 0s 11ms/step - loss: 991.0842 - mean_absolute_error: 24.7292 - val_loss: 1340.6311 - val_mean_absolute_error: 35.7084\n",
            "Epoch 28/100\n",
            "7/7 [==============================] - 0s 9ms/step - loss: 736.6144 - mean_absolute_error: 21.8677 - val_loss: 1945.0586 - val_mean_absolute_error: 43.3534\n",
            "Epoch 29/100\n",
            "7/7 [==============================] - 0s 9ms/step - loss: 661.2756 - mean_absolute_error: 21.1278 - val_loss: 2367.3660 - val_mean_absolute_error: 47.9773\n",
            "Epoch 30/100\n",
            "7/7 [==============================] - 0s 8ms/step - loss: 651.6540 - mean_absolute_error: 21.1336 - val_loss: 2572.4194 - val_mean_absolute_error: 50.0687\n",
            "Epoch 31/100\n",
            "7/7 [==============================] - 0s 9ms/step - loss: 656.8643 - mean_absolute_error: 21.2774 - val_loss: 2619.1548 - val_mean_absolute_error: 50.5333\n",
            "Epoch 32/100\n",
            "7/7 [==============================] - 0s 8ms/step - loss: 658.1830 - mean_absolute_error: 21.3001 - val_loss: 2588.9143 - val_mean_absolute_error: 50.2332\n",
            "Epoch 33/100\n",
            "7/7 [==============================] - 0s 11ms/step - loss: 656.2194 - mean_absolute_error: 21.2591 - val_loss: 2516.1313 - val_mean_absolute_error: 49.5034\n",
            "Epoch 34/100\n",
            "7/7 [==============================] - 0s 12ms/step - loss: 652.2071 - mean_absolute_error: 21.1711 - val_loss: 2459.3877 - val_mean_absolute_error: 48.9270\n",
            "Epoch 35/100\n",
            "7/7 [==============================] - 0s 9ms/step - loss: 650.9987 - mean_absolute_error: 21.0975 - val_loss: 2368.5537 - val_mean_absolute_error: 47.9897\n",
            "Epoch 36/100\n",
            "7/7 [==============================] - 0s 9ms/step - loss: 650.6312 - mean_absolute_error: 21.0718 - val_loss: 2304.5664 - val_mean_absolute_error: 47.3184\n",
            "Epoch 37/100\n",
            "7/7 [==============================] - 0s 9ms/step - loss: 649.8411 - mean_absolute_error: 21.0396 - val_loss: 2299.0952 - val_mean_absolute_error: 47.2605\n",
            "Epoch 38/100\n",
            "7/7 [==============================] - 0s 9ms/step - loss: 650.0666 - mean_absolute_error: 21.0338 - val_loss: 2274.4968 - val_mean_absolute_error: 46.9995\n",
            "Epoch 39/100\n",
            "7/7 [==============================] - 0s 9ms/step - loss: 649.9450 - mean_absolute_error: 21.0234 - val_loss: 2285.7451 - val_mean_absolute_error: 47.1191\n",
            "Epoch 40/100\n",
            "7/7 [==============================] - 0s 9ms/step - loss: 650.2980 - mean_absolute_error: 21.0469 - val_loss: 2308.3557 - val_mean_absolute_error: 47.3584\n",
            "Epoch 41/100\n",
            "7/7 [==============================] - 0s 8ms/step - loss: 649.7256 - mean_absolute_error: 21.0359 - val_loss: 2292.4580 - val_mean_absolute_error: 47.1903\n",
            "Epoch 42/100\n",
            "7/7 [==============================] - 0s 8ms/step - loss: 650.0322 - mean_absolute_error: 21.0377 - val_loss: 2303.3328 - val_mean_absolute_error: 47.3053\n",
            "Epoch 43/100\n",
            "7/7 [==============================] - 0s 9ms/step - loss: 649.7607 - mean_absolute_error: 21.0346 - val_loss: 2295.6260 - val_mean_absolute_error: 47.2238\n",
            "Epoch 44/100\n",
            "7/7 [==============================] - 0s 8ms/step - loss: 649.8588 - mean_absolute_error: 21.0351 - val_loss: 2294.2976 - val_mean_absolute_error: 47.2107\n",
            "Epoch 45/100\n",
            "7/7 [==============================] - 0s 8ms/step - loss: 658.8785 - mean_absolute_error: 21.0754 - val_loss: 1983.4387 - val_mean_absolute_error: 43.8330\n",
            "Epoch 46/100\n",
            "7/7 [==============================] - 0s 9ms/step - loss: 636.8720 - mean_absolute_error: 20.8021 - val_loss: 2239.1218 - val_mean_absolute_error: 46.6376\n",
            "Epoch 47/100\n",
            "7/7 [==============================] - 0s 9ms/step - loss: 634.3304 - mean_absolute_error: 20.7090 - val_loss: 2174.4849 - val_mean_absolute_error: 45.9418\n",
            "Epoch 48/100\n",
            "7/7 [==============================] - 0s 8ms/step - loss: 628.1822 - mean_absolute_error: 20.6470 - val_loss: 2195.1003 - val_mean_absolute_error: 46.1675\n",
            "Epoch 49/100\n",
            "7/7 [==============================] - 0s 8ms/step - loss: 625.8056 - mean_absolute_error: 20.6304 - val_loss: 2120.4924 - val_mean_absolute_error: 45.3558\n",
            "Epoch 50/100\n",
            "7/7 [==============================] - 0s 8ms/step - loss: 614.6262 - mean_absolute_error: 20.3805 - val_loss: 2062.5920 - val_mean_absolute_error: 44.7343\n",
            "Epoch 51/100\n",
            "7/7 [==============================] - 0s 8ms/step - loss: 608.8285 - mean_absolute_error: 20.4039 - val_loss: 1882.8082 - val_mean_absolute_error: 42.6756\n",
            "Epoch 52/100\n",
            "7/7 [==============================] - 0s 8ms/step - loss: 628.5303 - mean_absolute_error: 20.3902 - val_loss: 1891.5865 - val_mean_absolute_error: 42.7873\n",
            "Epoch 53/100\n",
            "7/7 [==============================] - 0s 9ms/step - loss: 582.9707 - mean_absolute_error: 19.8536 - val_loss: 1942.4304 - val_mean_absolute_error: 43.3821\n",
            "Epoch 54/100\n",
            "7/7 [==============================] - 0s 8ms/step - loss: 579.6078 - mean_absolute_error: 19.7924 - val_loss: 1873.4594 - val_mean_absolute_error: 42.5905\n",
            "Epoch 55/100\n",
            "7/7 [==============================] - 0s 10ms/step - loss: 561.7896 - mean_absolute_error: 19.2012 - val_loss: 2250.2671 - val_mean_absolute_error: 46.8214\n",
            "Epoch 56/100\n",
            "7/7 [==============================] - 0s 11ms/step - loss: 580.4387 - mean_absolute_error: 20.0157 - val_loss: 1706.7067 - val_mean_absolute_error: 40.6223\n",
            "Epoch 57/100\n",
            "7/7 [==============================] - 0s 9ms/step - loss: 528.8180 - mean_absolute_error: 18.8243 - val_loss: 1584.5822 - val_mean_absolute_error: 39.1108\n",
            "Epoch 58/100\n",
            "7/7 [==============================] - 0s 12ms/step - loss: 510.2727 - mean_absolute_error: 18.4271 - val_loss: 1467.9814 - val_mean_absolute_error: 37.6106\n",
            "Epoch 59/100\n",
            "7/7 [==============================] - 0s 8ms/step - loss: 498.7590 - mean_absolute_error: 18.0213 - val_loss: 1865.8516 - val_mean_absolute_error: 42.5760\n",
            "Epoch 60/100\n",
            "7/7 [==============================] - 0s 12ms/step - loss: 497.4181 - mean_absolute_error: 18.3881 - val_loss: 1322.6090 - val_mean_absolute_error: 35.6455\n",
            "Epoch 61/100\n",
            "7/7 [==============================] - 0s 8ms/step - loss: 459.8923 - mean_absolute_error: 17.5338 - val_loss: 1539.3933 - val_mean_absolute_error: 38.5800\n",
            "Epoch 62/100\n",
            "7/7 [==============================] - 0s 8ms/step - loss: 459.5148 - mean_absolute_error: 17.3676 - val_loss: 1183.0133 - val_mean_absolute_error: 33.6602\n",
            "Epoch 63/100\n",
            "7/7 [==============================] - 0s 10ms/step - loss: 422.2744 - mean_absolute_error: 16.8373 - val_loss: 1148.8777 - val_mean_absolute_error: 33.1717\n",
            "Epoch 64/100\n",
            "7/7 [==============================] - 0s 8ms/step - loss: 430.6070 - mean_absolute_error: 16.8840 - val_loss: 1513.3325 - val_mean_absolute_error: 38.2830\n",
            "Epoch 65/100\n",
            "7/7 [==============================] - 0s 8ms/step - loss: 416.1991 - mean_absolute_error: 16.5884 - val_loss: 1178.7756 - val_mean_absolute_error: 33.6458\n",
            "Epoch 66/100\n",
            "7/7 [==============================] - 0s 9ms/step - loss: 392.2101 - mean_absolute_error: 16.2374 - val_loss: 702.5196 - val_mean_absolute_error: 25.6028\n",
            "Epoch 67/100\n",
            "7/7 [==============================] - 0s 8ms/step - loss: 358.2848 - mean_absolute_error: 14.9353 - val_loss: 1288.0533 - val_mean_absolute_error: 35.2466\n",
            "Epoch 68/100\n",
            "7/7 [==============================] - 0s 8ms/step - loss: 338.4196 - mean_absolute_error: 15.1534 - val_loss: 492.2253 - val_mean_absolute_error: 21.1291\n",
            "Epoch 69/100\n",
            "7/7 [==============================] - 0s 10ms/step - loss: 320.3264 - mean_absolute_error: 14.2302 - val_loss: 1072.3264 - val_mean_absolute_error: 32.0531\n",
            "Epoch 70/100\n",
            "7/7 [==============================] - 0s 9ms/step - loss: 318.1689 - mean_absolute_error: 14.2662 - val_loss: 879.5750 - val_mean_absolute_error: 28.8940\n",
            "Epoch 71/100\n",
            "7/7 [==============================] - 0s 8ms/step - loss: 290.4375 - mean_absolute_error: 13.7264 - val_loss: 786.1295 - val_mean_absolute_error: 27.2341\n",
            "Epoch 72/100\n",
            "7/7 [==============================] - 0s 8ms/step - loss: 257.0431 - mean_absolute_error: 12.9644 - val_loss: 378.9483 - val_mean_absolute_error: 18.2782\n",
            "Epoch 73/100\n",
            "7/7 [==============================] - 0s 8ms/step - loss: 238.1528 - mean_absolute_error: 12.3499 - val_loss: 381.2180 - val_mean_absolute_error: 18.3484\n",
            "Epoch 74/100\n",
            "7/7 [==============================] - 0s 8ms/step - loss: 216.2379 - mean_absolute_error: 11.7395 - val_loss: 272.6176 - val_mean_absolute_error: 15.0925\n",
            "Epoch 75/100\n",
            "7/7 [==============================] - 0s 9ms/step - loss: 224.3846 - mean_absolute_error: 11.9115 - val_loss: 424.6861 - val_mean_absolute_error: 19.4914\n",
            "Epoch 76/100\n",
            "7/7 [==============================] - 0s 9ms/step - loss: 196.7436 - mean_absolute_error: 11.1206 - val_loss: 204.1750 - val_mean_absolute_error: 12.5975\n",
            "Epoch 77/100\n",
            "7/7 [==============================] - 0s 9ms/step - loss: 169.3297 - mean_absolute_error: 10.0832 - val_loss: 150.4024 - val_mean_absolute_error: 10.3216\n",
            "Epoch 78/100\n",
            "7/7 [==============================] - 0s 9ms/step - loss: 149.8526 - mean_absolute_error: 9.5262 - val_loss: 80.1856 - val_mean_absolute_error: 6.9967\n",
            "Epoch 79/100\n",
            "7/7 [==============================] - 0s 10ms/step - loss: 130.2100 - mean_absolute_error: 8.6998 - val_loss: 90.6192 - val_mean_absolute_error: 7.3892\n",
            "Epoch 80/100\n",
            "7/7 [==============================] - 0s 8ms/step - loss: 105.5467 - mean_absolute_error: 7.7999 - val_loss: 99.0630 - val_mean_absolute_error: 7.7370\n",
            "Epoch 81/100\n",
            "7/7 [==============================] - 0s 9ms/step - loss: 104.2236 - mean_absolute_error: 7.8179 - val_loss: 79.4947 - val_mean_absolute_error: 7.0601\n",
            "Epoch 82/100\n",
            "7/7 [==============================] - 0s 9ms/step - loss: 90.2162 - mean_absolute_error: 7.2566 - val_loss: 55.6869 - val_mean_absolute_error: 6.0228\n",
            "Epoch 83/100\n",
            "7/7 [==============================] - 0s 9ms/step - loss: 82.5538 - mean_absolute_error: 6.9219 - val_loss: 58.9945 - val_mean_absolute_error: 6.3328\n",
            "Epoch 84/100\n",
            "7/7 [==============================] - 0s 10ms/step - loss: 75.6586 - mean_absolute_error: 6.6242 - val_loss: 63.1955 - val_mean_absolute_error: 6.6463\n",
            "Epoch 85/100\n",
            "7/7 [==============================] - 0s 9ms/step - loss: 72.6756 - mean_absolute_error: 6.6154 - val_loss: 55.7692 - val_mean_absolute_error: 6.0721\n",
            "Epoch 86/100\n",
            "7/7 [==============================] - 0s 9ms/step - loss: 65.7902 - mean_absolute_error: 6.2236 - val_loss: 71.8582 - val_mean_absolute_error: 6.8129\n",
            "Epoch 87/100\n",
            "7/7 [==============================] - 0s 9ms/step - loss: 63.1950 - mean_absolute_error: 6.0391 - val_loss: 55.8357 - val_mean_absolute_error: 6.1409\n",
            "Epoch 88/100\n",
            "7/7 [==============================] - 0s 10ms/step - loss: 70.0826 - mean_absolute_error: 6.4744 - val_loss: 57.0669 - val_mean_absolute_error: 6.1522\n",
            "Epoch 89/100\n",
            "7/7 [==============================] - 0s 8ms/step - loss: 72.0713 - mean_absolute_error: 6.6731 - val_loss: 97.2014 - val_mean_absolute_error: 7.7055\n",
            "Epoch 90/100\n",
            "7/7 [==============================] - 0s 9ms/step - loss: 71.0436 - mean_absolute_error: 6.5516 - val_loss: 55.2607 - val_mean_absolute_error: 6.1992\n",
            "Epoch 91/100\n",
            "7/7 [==============================] - 0s 9ms/step - loss: 56.8734 - mean_absolute_error: 5.8233 - val_loss: 62.6883 - val_mean_absolute_error: 6.5167\n",
            "Epoch 92/100\n",
            "7/7 [==============================] - 0s 8ms/step - loss: 54.4294 - mean_absolute_error: 5.8179 - val_loss: 51.7060 - val_mean_absolute_error: 5.9456\n",
            "Epoch 93/100\n",
            "7/7 [==============================] - 0s 9ms/step - loss: 51.6031 - mean_absolute_error: 5.6178 - val_loss: 54.2948 - val_mean_absolute_error: 6.1394\n",
            "Epoch 94/100\n",
            "7/7 [==============================] - 0s 8ms/step - loss: 53.6685 - mean_absolute_error: 5.6871 - val_loss: 50.2951 - val_mean_absolute_error: 5.8144\n",
            "Epoch 95/100\n",
            "7/7 [==============================] - 0s 9ms/step - loss: 52.9779 - mean_absolute_error: 5.7647 - val_loss: 55.8738 - val_mean_absolute_error: 6.2704\n",
            "Epoch 96/100\n",
            "7/7 [==============================] - 0s 9ms/step - loss: 62.3091 - mean_absolute_error: 6.2773 - val_loss: 67.6829 - val_mean_absolute_error: 6.6550\n",
            "Epoch 97/100\n",
            "7/7 [==============================] - 0s 9ms/step - loss: 58.1211 - mean_absolute_error: 6.0513 - val_loss: 50.0753 - val_mean_absolute_error: 5.8116\n",
            "Epoch 98/100\n",
            "7/7 [==============================] - 0s 10ms/step - loss: 49.3741 - mean_absolute_error: 5.5717 - val_loss: 64.4682 - val_mean_absolute_error: 6.5719\n",
            "Epoch 99/100\n",
            "7/7 [==============================] - 0s 11ms/step - loss: 60.7060 - mean_absolute_error: 6.3690 - val_loss: 52.1034 - val_mean_absolute_error: 6.1099\n",
            "Epoch 100/100\n",
            "7/7 [==============================] - 0s 11ms/step - loss: 59.2684 - mean_absolute_error: 6.1327 - val_loss: 52.0721 - val_mean_absolute_error: 6.1278\n"
          ]
        },
        {
          "output_type": "execute_result",
          "data": {
            "text/plain": [
              "<keras.callbacks.History at 0x7fcf3757ad30>"
            ]
          },
          "metadata": {},
          "execution_count": 51
        }
      ]
    },
    {
      "cell_type": "code",
      "source": [
        "train_predictions = model.predict(X_train).flatten()\n",
        "\n",
        "plt.plot(dates_train, train_predictions)\n",
        "plt.plot(dates_train, y_train)\n",
        "plt.legend(['Training Predictions', 'Training Observations'])"
      ],
      "metadata": {
        "colab": {
          "base_uri": "https://localhost:8080/",
          "height": 302
        },
        "id": "o568K3ZJOG-y",
        "outputId": "f5742c13-e4dc-475c-e927-22f0a0da602b"
      },
      "execution_count": 52,
      "outputs": [
        {
          "output_type": "stream",
          "name": "stdout",
          "text": [
            "7/7 [==============================] - 0s 3ms/step\n"
          ]
        },
        {
          "output_type": "execute_result",
          "data": {
            "text/plain": [
              "<matplotlib.legend.Legend at 0x7fcf367c6d30>"
            ]
          },
          "metadata": {},
          "execution_count": 52
        },
        {
          "output_type": "display_data",
          "data": {
            "text/plain": [
              "<Figure size 432x288 with 1 Axes>"
            ],
            "image/png": "[encoded data removed]"
          },
          "metadata": {
            "needs_background": "light"
          }
        }
      ]
    },
    {
      "cell_type": "code",
      "source": [
        "val_predictions = model.predict(X_val).flatten()\n",
        "\n",
        "plt.plot(dates_val, val_predictions)\n",
        "plt.plot(dates_val, y_val)\n",
        "plt.legend(['Validation Predictions', 'Validation Observations'])"
      ],
      "metadata": {
        "colab": {
          "base_uri": "https://localhost:8080/",
          "height": 302
        },
        "id": "Dviig8rmObxV",
        "outputId": "1c9e2344-d99e-4d1c-f6c1-c562010e8de6"
      },
      "execution_count": 53,
      "outputs": [
        {
          "output_type": "stream",
          "name": "stdout",
          "text": [
            "1/1 [==============================] - 0s 26ms/step\n"
          ]
        },
        {
          "output_type": "execute_result",
          "data": {
            "text/plain": [
              "<matplotlib.legend.Legend at 0x7fcf36742e80>"
            ]
          },
          "metadata": {},
          "execution_count": 53
        },
        {
          "output_type": "display_data",
          "data": {
            "text/plain": [
              "<Figure size 432x288 with 1 Axes>"
            ],
            "image/png": "[encoded data removed]"
          },
          "metadata": {
            "needs_background": "light"
          }
        }
      ]
    },
    {
      "cell_type": "code",
      "source": [
        "test_predictions = model.predict(X_test).flatten()\n",
        "\n",
        "plt.plot(dates_test, test_predictions)\n",
        "plt.plot(dates_test, y_test)\n",
        "plt.legend(['Testing Predictions', 'Testing Observations'])"
      ],
      "metadata": {
        "colab": {
          "base_uri": "https://localhost:8080/",
          "height": 302
        },
        "id": "3GWMp94POsl6",
        "outputId": "46b736a8-8378-4eff-eedb-a28524795690"
      },
      "execution_count": 54,
      "outputs": [
        {
          "output_type": "stream",
          "name": "stdout",
          "text": [
            "1/1 [==============================] - 0s 21ms/step\n"
          ]
        },
        {
          "output_type": "execute_result",
          "data": {
            "text/plain": [
              "<matplotlib.legend.Legend at 0x7fcf366b18e0>"
            ]
          },
          "metadata": {},
          "execution_count": 54
        },
        {
          "output_type": "display_data",
          "data": {
            "text/plain": [
              "<Figure size 432x288 with 1 Axes>"
            ],
            "image/png": "[encoded data removed]"
          },
          "metadata": {
            "needs_background": "light"
          }
        }
      ]
    },
    {
      "cell_type": "code",
      "source": [
        "plt.plot(dates_train, train_predictions)\n",
        "plt.plot(dates_train, y_train)\n",
        "plt.plot(dates_val, val_predictions)\n",
        "plt.plot(dates_val, y_val)\n",
        "plt.plot(dates_test, test_predictions)\n",
        "plt.plot(dates_test, y_test)\n",
        "plt.legend(['Training Predictions', \n",
        "            'Training Observations',\n",
        "            'Validation Predictions', \n",
        "            'Validation Observations',\n",
        "            'Testing Predictions', \n",
        "            'Testing Observations'])"
      ],
      "metadata": {
        "colab": {
          "base_uri": "https://localhost:8080/",
          "height": 283
        },
        "id": "NKBmj4CNPZ0Y",
        "outputId": "4843ef4d-31a3-457b-d548-8be75c97e085"
      },
      "execution_count": 55,
      "outputs": [
        {
          "output_type": "execute_result",
          "data": {
            "text/plain": [
              "<matplotlib.legend.Legend at 0x7fcf36777220>"
            ]
          },
          "metadata": {},
          "execution_count": 55
        },
        {
          "output_type": "display_data",
          "data": {
            "text/plain": [
              "<Figure size 432x288 with 1 Axes>"
            ],
            "image/png": "[encoded data removed]"
          },
          "metadata": {
            "needs_background": "light"
          }
        }
      ]
    }
  ]
}